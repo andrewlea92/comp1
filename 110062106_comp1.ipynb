{
 "cells": [
  {
   "cell_type": "code",
   "execution_count": 1,
   "metadata": {},
   "outputs": [],
   "source": [
    "import pandas as pd\n",
    "\n",
    "df_train = pd.read_csv('./dataset/kaggle/train.csv')\n",
    "df_test = pd.read_csv('./dataset/kaggle/test.csv')"
   ]
  },
  {
   "cell_type": "code",
   "execution_count": 2,
   "metadata": {},
   "outputs": [
    {
     "name": "stdout",
     "output_type": "stream",
     "text": [
      "   Id  Popularity                                       Page content\n",
      "0   0          -1  <html><head><div class=\"article-info\"> <span c...\n",
      "1   1           1  <html><head><div class=\"article-info\"><span cl...\n",
      "2   2           1  <html><head><div class=\"article-info\"><span cl...\n",
      "3   3          -1  <html><head><div class=\"article-info\"><span cl...\n",
      "4   4          -1  <html><head><div class=\"article-info\"><span cl...\n"
     ]
    }
   ],
   "source": [
    "print(df_train.head(5))"
   ]
  },
  {
   "cell_type": "markdown",
   "metadata": {},
   "source": [
    "拿掉HTML"
   ]
  },
  {
   "cell_type": "code",
   "execution_count": 3,
   "metadata": {},
   "outputs": [
    {
     "name": "stdout",
     "output_type": "stream",
     "text": [
      "<html><head><div class=\"article-info\"> <span class=\"byline basic\">Clara Moskowitz</span> for <a href=\"/publishers/space-com/\">Space.com</a> <time datetime=\"Wed, 19 Jun 2013 15:04:30 +0000\">2013-06-19 15:04:30 UTC</time> </div></head><body><h1 class=\"title\">NASA's Grand Challenge: Stop Asteroids From Destroying Earth</h1><figure class=\"article-image\"><img class=\"microcontent\" data-fragment=\"lead-image\" data-image=\"http://i.amz.mshcdn.com/I7b9cUsPSztew7r1WT6_iBLjflo=/950x534/2013%2F06%2F19%2Ffe%2FDactyl.44419.jpg\" data-micro=\"1\" data-url=\"http://mashable.com/2013/06/19/nasa-grand-challenge-asteroid/\" src=\"http://i.amz.mshcdn.com/I7b9cUsPSztew7r1WT6_iBLjflo=/950x534/2013%2F06%2F19%2Ffe%2FDactyl.44419.jpg\"/></figure><article data-channel=\"world\"><section class=\"article-content\"> <p>There may be killer asteroids headed for Earth, and NASA has decided to do something about it. The space agency announced a new \"Grand Challenge\" on June 18 to find all dangerous space rocks and figure out how to stop them from destroying our planet.</p> <p>The new mission builds on projects already underway at NASA, including a plan to <a href=\"http://www.space.com/20591-nasa-asteroid-capture-mission-feasibility.html\" target=\"_blank\">capture an asteroid</a>, pull it in toward the moon and send astronauts to visit it. As part of the Grand Challenge, the agency issued a \"request for information\" today — aiming to solicit ideas from industry, academia and the public on how to improve the asteroid mission plan.</p> <p>\"We're asking for you to think about concepts and different approaches for what we've described here,\" William Gerstenmaier, NASA's associate administrator for human explorations and operations, said yesterday during a NASA event announcing the initiative. \"We want you to think about other ways of enhancing this to get the most out of it.\"</p> <p><divclass><strong>SEE ALSO: <a href=\"http://www.space.com/20606-nasa-asteroid-capture-mission-images.html\" target=\"_blank\">How It Works: NASA Asteroid-Capture</a></strong><br><br>Responses to the request for information, which also seeks ideas for detecting and mitigating asteroid threats, are due July 18.<br><br>The asteroid-retrieval mission, designed to provide the first deep-space mission for astronauts flying on NASA's Space Launch System rocket and Orion space capsule under development, has come under fire from lawmakers who would prefer that NASA return to the moon.<br><br>A <a href=\"http://www.space.com/21609-nasa-asteroid-capture-mission-congress.html\" target=\"_blank\">draft NASA authorization bill</a> from the House space subcommittee, which is currently in debate, would cancel the mission and steer the agency toward other projects. That bill will be discussed during a hearing Wednesday, June 19 at 10 a.m. EDT.<br><br><divclass><strong>SEE ALSO: <a href=\"http://www.space.com/20606-nasa-asteroid-capture-mission-images.html\" target=\"_blank\">How It Works: NASA Asteroid-Capture Mission in Pictures</a></strong><br><br>But NASA officials defended the asteroid mission today and said they were confident they'd win Congress' support once they explained its benefits further.<br><br>\"I think that we really, truly are going to be able to show the value of the mission,\" NASA Associate Administrator Lori Garver said today. \"To me, this is something that what we do in this country — we debate how we spend the public's money. This is the beginning of the debate.\"<br><br>Garver also maintained that sending astronauts to an asteroid would not diminish NASA's other science and exploration goals, including another lunar landing.<br><br><divclass><strong>SEE ALSO: <a href=\"http://www.space.com/20601-animation-of-proposed-asteroid-retrieval-mission-video.html\" target=\"_blank\">Animation Of Proposed Asteroid Retrieval Mission</a></strong><br><br>\"This initiative takes nothing from the other valuable work,\" she said. \"This is only a small piece of our overall strategy, but it is an integral piece. It takes nothing from the moon.\"<br><br>Part of NASA's plan to win support for the flight is to link it more closely with the larger goal of protecting Earth from asteroid threats.<br><br>If, someday, humanity discovers an asteroid headed for Earth and manages to alter its course, \"it will be one of the most important accomplishments in human history,\" said Tom Kalil, deputy director for technology and innovation at the White House Office of Science and Technology Policy.<br><br><divclass><strong>SEE ALSO: <a href=\"http://www.space.com/20006-deep-space-missions-private-companies.html\" target=\"_blank\">Wildest Private Deep-Space Mission Ideas: A Countdown</a></strong><br><br>The topic of asteroid threats is more timely than ever, after a meteor exploded over the Russian city of <a href=\"http://www.space.com/19823-russia-meteor-explosion-complete-coverage.html\" target=\"_blank\">Chelyabinsk</a> on Feb. 15 — the same day that the football field-sized <a href=\"http://www.space.com/19646-asteroid-2012-da14-earth-flyby-complete-coverage.html\" target=\"_blank\">asteroid 2012 DA14</a> passed within the moon's orbit of Earth.<br><br><em>Image courtesy of <a href=\"http://www.dvidshub.net/image/707596/ida-and-dactyl#.UcHDQvk4uSo\" target=\"_blank\">NASA</a></em></br></br></br></br></divclass></br></br></br></br></br></br></br></br></divclass></br></br></br></br></br></br></br></br></divclass></br></br></br></br></br></br></br></br></divclass></p> <ul> <li><a href=\"http://www.space.com/34406-spacexs-musk-says-sabotage-unlikely-cause-of-sept-1-explosion-but-still-a-worry.html\">SpaceX's Musk Says Sabotage Unlikely Cause of Sept. 1 Explosion, But Still a Worry</a></li> <li><a href=\"http://www.space.com/34405-proxima-centauri-starspots-stellar-cycle-habitable-planet-alien-life.html\">Proxima Centauri Is Like Our Sun... on Steroids</a></li> <li><a href=\"http://www.space.com/34404-china-launches-shenzhou-11-astronauts-to-space-lab.html\">China Launches Shenzhou-11 Astronauts to Tiangong-2 Space Lab</a></li> <li><a href=\"http://www.space.com/34403-space-station-mockup-in-houston-astronaut-guided-tour-video.html\">Space Station Mockup In Houston - Astronaut Guided Tour | Video</a></li> </ul> <p> This article originally published at Space.com <a href=\"http://www.space.com/21610-nasa-asteroid-threat-grand-challenge.html?\">here</a> </p> </section></article><footer class=\"article-topics\"> Topics: <a href=\"/category/asteroid/\">Asteroid</a>, <a href=\"/category/asteroids/\">Asteroids</a>, <a href=\"/category/challenge/\">challenge</a>, <a href=\"/category/earth/\">Earth</a>, <a href=\"/category/space/\">Space</a>, <a href=\"/category/us/\">U.S.</a>, <a href=\"/category/world/\">World</a> </footer></body></html>\n"
     ]
    }
   ],
   "source": [
    "print(df_train.loc[0,'Page content'])"
   ]
  },
  {
   "cell_type": "code",
   "execution_count": 11,
   "metadata": {},
   "outputs": [
    {
     "name": "stdout",
     "output_type": "stream",
     "text": [
      "   Id                                              title  \\\n",
      "0   0  NASA's Grand Challenge: Stop Asteroids From De...   \n",
      "1   1  Google's New Open Source Patent Pledge: We Won...   \n",
      "2   2  Ballin': 2014 NFL Draft Picks Get to Choose Th...   \n",
      "3   3        Cameraperson Fails Deliver Slapstick Laughs   \n",
      "4   4  NFL Star Helps Young Fan Prove Friendship With...   \n",
      "5   5  The Underdog Internet Providers Head to Washin...   \n",
      "6   6  6-Second Vine Video Is the Funniest Parody of ...   \n",
      "7   7  Bill Cosby is still planning to perform his co...   \n",
      "8   8  Vending Machine Uses Cloud Technology to Perso...   \n",
      "9   9  Online Subscribers Up, Advertising Still Down ...   \n",
      "\n",
      "                    author                                              topic  \\\n",
      "0          clara_moskowitz  Asteroid, Asteroids, challenge, Earth, Space, ...   \n",
      "1         christina_warren  Apps and Software, Google, open source, opn pl...   \n",
      "2                sam_laird  Entertainment, NFL, NFL Draft, Sports, Television   \n",
      "3                sam_laird                 Sports, Video, Videos, Watercooler   \n",
      "4          connor_finnegan  Entertainment, instagram, instagram video, NFL...   \n",
      "5          brendan_greeley  government, internet, internet service provide...   \n",
      "6  brian_anthony_hernandez  Entertainment, funny, Iggy Azalea, Music, paro...   \n",
      "7          sandra_gonzalez              bill cosby, Entertainment, Television   \n",
      "8               sara_afzal  Apps and Software, Gadgets, Mobile, Tech, vend...   \n",
      "9         jason_abbruzzese       Business, Media, The New York Times, paywall   \n",
      "\n",
      "                              time  \\\n",
      "0  Wed, 19 Jun 2013 15:04:30 +0000   \n",
      "1  Thu, 28 Mar 2013 17:40:55 +0000   \n",
      "2  Wed, 07 May 2014 19:15:20 +0000   \n",
      "3  Fri, 11 Oct 2013 02:26:50 +0000   \n",
      "4  Thu, 17 Apr 2014 03:31:43 +0000   \n",
      "5  Thu, 21 Nov 2013 18:00:42 +0000   \n",
      "6  Mon, 11 Aug 2014 05:00:18 +0000   \n",
      "7  Thu, 20 Nov 2014 00:30:41 +0000   \n",
      "8  Mon, 30 Sep 2013 04:30:01 +0000   \n",
      "9  Thu, 06 Feb 2014 15:49:35 +0000   \n",
      "\n",
      "                                     cleaned_content  \n",
      "0   Clara Moskowitz for Space.com 2013-06-19 15:0...  \n",
      "1  By Christina Warren2013-03-28 17:40:55 UTCGoog...  \n",
      "2  By Sam Laird2014-05-07 19:15:20 UTCBallin': 20...  \n",
      "3  By Sam Laird2013-10-11 02:26:50 UTCCameraperso...  \n",
      "4  By Connor Finnegan2014-04-17 03:31:43 UTCNFL S...  \n",
      "5   Brendan Greeley for Bloomberg 2013-11-21 18:0...  \n",
      "6  By Brian Anthony Hernandez2014-08-11 05:00:18 ...  \n",
      "7  By Sandra Gonzalez2014-11-20 00:30:41 UTCBill ...  \n",
      "8  By Sara Afzal2013-09-30 04:30:01 UTCVending Ma...  \n",
      "9  By Jason Abbruzzese2014-02-06 15:49:35 UTCOnli...  \n"
     ]
    }
   ],
   "source": [
    "import pandas as pd\n",
    "import re\n",
    "from bs4 import BeautifulSoup\n",
    "\n",
    "# 讀取資料\n",
    "data = pd.read_csv('./dataset/kaggle/train.csv')\n",
    "\n",
    "# 定義一個函數來清理HTML內容\n",
    "def clean_html(html_content):\n",
    "    soup = BeautifulSoup(html_content, 'html.parser')\n",
    "    return soup.get_text()\n",
    "\n",
    "# 應用清理函數到前10筆資料\n",
    "data.loc[:9, 'cleaned_content'] = data.loc[:9, 'Page content'].apply(clean_html)\n",
    "\n",
    "# 提取標題\n",
    "data.loc[:9, 'title'] = data.loc[:9, 'Page content'].apply(\n",
    "    lambda x: BeautifulSoup(x, 'html.parser').find('h1').get_text() if BeautifulSoup(x, 'html.parser').find('h1') else None\n",
    ")\n",
    "\n",
    "# 提取作者的函數\n",
    "def extract_author(html_content):\n",
    "    soup = BeautifulSoup(html_content, 'html.parser')\n",
    "    article_info = soup.head.find('div', {'class': 'article-info'})\n",
    "\n",
    "    # 提取作者名稱\n",
    "    author_name = article_info.find('span', {'class': 'author_name'})\n",
    "    if author_name:\n",
    "        author = author_name.get_text()\n",
    "    elif article_info.span:\n",
    "        author = article_info.span.string\n",
    "    elif article_info.a:\n",
    "        author = article_info.a.string\n",
    "    else:\n",
    "        author = \"none\"\n",
    "\n",
    "    # 清理作者名稱\n",
    "    author = re.sub(r'\\s+', ' ', author.strip().lower())\n",
    "    if author.startswith('by '):\n",
    "        author = author[3:]  # 去掉前綴 'by '\n",
    "    author = re.sub(r'&.*;', '&', author.replace(' and ', ' & '))\n",
    "\n",
    "    # 分離作者\n",
    "    author_list = []\n",
    "    if author.find(',') == -1:\n",
    "        author_list = re.split(r'\\s*&\\s*', author)\n",
    "    else:\n",
    "        authors = re.split(r'\\s*,\\s*', author)\n",
    "        if authors[-1].find('&') == -1 or len(authors[-1].split('&')[-1].strip().split()) > 3:\n",
    "            author_list.append(authors[0])\n",
    "        else:\n",
    "            author_list += authors[:-1]\n",
    "            author_list += re.split(r'\\s*&\\s*', authors[-1])\n",
    "    author = ' '.join([re.sub(r'\\s+', '_', a) for a in author_list])\n",
    "\n",
    "    return author\n",
    "\n",
    "# 提取作者\n",
    "data.loc[:9, 'author'] = data.loc[:9, 'Page content'].apply(extract_author)\n",
    "\n",
    "# 提取主題\n",
    "def extract_topic(html_content):\n",
    "    soup = BeautifulSoup(html_content, 'html.parser')\n",
    "    topic_tag = soup.find('footer', class_='article-topics')\n",
    "    if topic_tag:\n",
    "        return ', '.join([a.get_text().strip() for a in topic_tag.find_all('a')])\n",
    "    return \"none\"\n",
    "\n",
    "# 提取主題\n",
    "data.loc[:9, 'topic'] = data.loc[:9, 'Page content'].apply(extract_topic)\n",
    "\n",
    "# 提取時間\n",
    "def extract_time(html_content):\n",
    "    soup = BeautifulSoup(html_content, 'html.parser')\n",
    "    time_tag = soup.find('time')\n",
    "    return time_tag['datetime'] if time_tag else \"none\"\n",
    "\n",
    "# 提取時間\n",
    "data.loc[:9, 'time'] = data.loc[:9, 'Page content'].apply(extract_time)\n",
    "\n",
    "# 如果需要，你可以選擇在這裡儲存處理後的資料或執行其他操作\n",
    "# 例如：選擇需要的列\n",
    "result = data[['Id', 'title', 'author', 'topic', 'time', 'cleaned_content']]\n",
    "\n",
    "# 顯示前10筆結果\n",
    "print(result.head(10))\n"
   ]
  },
  {
   "cell_type": "code",
   "execution_count": 8,
   "metadata": {},
   "outputs": [
    {
     "name": "stdout",
     "output_type": "stream",
     "text": [
      "   Id                                              title author  \\\n",
      "0   0  NASA's Grand Challenge: Stop Asteroids From De...   None   \n",
      "\n",
      "                                     cleaned_content  \n",
      "0   Clara Moskowitz for Space.com 2013-06-19 15:0...  \n"
     ]
    }
   ],
   "source": []
  }
 ],
 "metadata": {
  "kernelspec": {
   "display_name": "Python 3",
   "language": "python",
   "name": "python3"
  },
  "language_info": {
   "codemirror_mode": {
    "name": "ipython",
    "version": 3
   },
   "file_extension": ".py",
   "mimetype": "text/x-python",
   "name": "python",
   "nbconvert_exporter": "python",
   "pygments_lexer": "ipython3",
   "version": "3.12.6"
  }
 },
 "nbformat": 4,
 "nbformat_minor": 2
}
